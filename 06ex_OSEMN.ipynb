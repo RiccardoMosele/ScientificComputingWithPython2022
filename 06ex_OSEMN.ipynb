{
 "cells": [
  {
   "cell_type": "code",
   "execution_count": 1,
   "metadata": {},
   "outputs": [],
   "source": [
    "import pandas as pd\n",
    "import numpy as np\n",
    "import random as rnd"
   ]
  },
  {
   "cell_type": "markdown",
   "metadata": {},
   "source": [
    "1\\. **Text files**\n",
    "\n",
    "Perform the following operations on plain `txt` files:\n",
    "\n",
    "+ create a list of integrer numbers and then save it to a text file named `data_int.txt`. Run the `cat` command to print the content of the file.\n",
    "+ create a matrix of 5x5 floats and then save it to a text file named `data_float.txt`. Use the `cat` command to print the content of the file.\n",
    "+ .load the `txt` file of the previous point and convert it to a `csv` file by hand"
   ]
  },
  {
   "cell_type": "code",
   "execution_count": 2,
   "metadata": {},
   "outputs": [
    {
     "name": "stdout",
     "output_type": "stream",
     "text": [
      "1 2 3 4 5 6 7 8 9 10 \n",
      "\n",
      "1.0   2.0   3.0   4.0   5.0   \n",
      "6.0   7.0   8.0   9.0   10.0  \n",
      "11.0  12.0  13.0  14.0  15.0  \n",
      "16.0  17.0  18.0  19.0  20.0  \n",
      "21.0  22.0  23.0  24.0  25.0  \n",
      "\n",
      "1.0   2.0   3.0   4.0   5.0   \n",
      "6.0   7.0   8.0   9.0   10.0  \n",
      "11.0  12.0  13.0  14.0  15.0  \n",
      "16.0  17.0  18.0  19.0  20.0  \n",
      "21.0  22.0  23.0  24.0  25.0  "
     ]
    }
   ],
   "source": [
    "#creo una lista di numeri interi\n",
    "numbers=list(range(1,10+1))\n",
    "#print(f\"List: {numbers}\")\n",
    "\n",
    "int_file_name = \"data/data_int.txt\" #nome del file txt\n",
    "with open(int_file_name, 'w') as txt_data: #apro il file (ogni volta sovrascivo i valori se presenti)\n",
    "    for i in numbers:\n",
    "        #inserisco un numero per ogni riga\n",
    "        txt_data.write(str(i)+' ') # write last line to a file\n",
    "\n",
    "!cat data/data_int.txt\n",
    "\n",
    "#creo una lista di 5x5 float\n",
    "matrix_list=np.arange(1.,26.,1.)\n",
    "\n",
    "#per controllare creo la matrice e a stampo\n",
    "#matrix=matrix_list.reshape((5,5))\n",
    "#print(f\"\\n\\nMatrix:\\n{matrix}\")\n",
    "print('\\n')\n",
    "\n",
    "float_file_name = \"data/data_float.txt\" #nome del file txt\n",
    "with open(float_file_name, 'w') as txt_data: #apro il file (ogni volta sovrascivo i valori se presenti)\n",
    "\n",
    "    for index, item in enumerate(matrix_list):\n",
    "        if(item<10):\n",
    "            if(index%5==0 and index>1): #ogni 5 valori vado a capo (matrice 5x5)\n",
    "                txt_data.write('\\n'+str(item)+'   ')\n",
    "            else:\n",
    "                txt_data.write(str(item)+'   ')\n",
    "        else:\n",
    "            if(index%5==0 and index>1): #ogni 5 valori vado a capo (matrice 5x5)\n",
    "                txt_data.write('\\n'+str(item)+'  ')\n",
    "            else:\n",
    "                txt_data.write(str(item)+'  ')\n",
    "\n",
    "!cat data/data_float.txt\n",
    "\n",
    "print('\\n')\n",
    "#conversione automatica\n",
    "read_file = pd.read_csv(float_file_name)\n",
    "read_file.to_csv (r'data/data_float.csv', index=None)\n",
    "\n",
    "#conversione manuale\n",
    "txt_lines = open(float_file_name, \"r\").readlines() #apro il file txt e leggo le linee\n",
    "floatCsv_file_name = \"data/data_float.csv\" #nome del file csv\n",
    "with open(floatCsv_file_name, 'w') as csv_data: #apro il file (ogni volta sovrascivo i valori se presenti)\n",
    "    for i in txt_lines:\n",
    "        #inserisco tutte le righe del file txt\n",
    "        csv_data.write(str(i)) # write last line to a file\n",
    "\n",
    "!cat data/data_float.csv"
   ]
  },
  {
   "cell_type": "markdown",
   "metadata": {},
   "source": [
    "2\\. **JSON files**\n",
    "\n",
    "Load the file *user_data.json*, which can be found at:\n",
    "\n",
    "- https://www.dropbox.com/s/sz5klcdpckc39hd/user_data.json\n",
    "\n",
    "and filter the data by the \"CreditCardType\" when it equals to \"American Express\". Than save the data to a new CSV file."
   ]
  },
  {
   "cell_type": "code",
   "execution_count": 8,
   "metadata": {},
   "outputs": [
    {
     "name": "stdout",
     "output_type": "stream",
     "text": [
      "ID,JobTitle,EmailAddress,FirstNameLastName,CreditCard,CreditCardType\n",
      "2,Investment  Advisor,Clint_Thorpe5003@bulaffy.com,Clint Thorpe,7083-8766-0251-2345,American Express\n",
      "12,Retail Trainee,Phillip_Carpenter9505@famism.biz,Phillip Carpenter,3657-0088-0820-5247,American Express\n",
      "28,Project Manager,Russel_Graves1378@extex.org,Russel Graves,6718-4818-8011-6024,American Express\n",
      "39,Stockbroker,Leanne_Newton1268@typill.biz,Leanne Newton,5438-0816-4166-4847,American Express\n",
      "57,Budget Analyst,Tony_Giles1960@iatim.tech,Tony Giles,8130-3425-7573-7745,American Express\n",
      "62,CNC Operator,Owen_Allcott5125@bauros.biz,Owen Allcott,4156-0107-7210-2630,American Express\n",
      "68,Project Manager,Liam_Lynn3280@kideod.biz,Liam Lynn,7152-3247-6053-2233,American Express\n",
      "74,Dentist,Regina_Woodcock5820@yahoo.com,Regina Woodcock,0208-1753-3870-8002,American Express\n",
      "81,HR Specialist,Carter_Wallace9614@atink.com,Carter Wallace,4256-7201-6717-4322,American Express\n",
      "92,Staffing Consultant,Maia_Stark2797@jiman.org,Maia Stark,3851-1403-1734-6321,American Express\n",
      "97,Stockbroker,Ciara_Lomax982@bauros.biz,Ciara Lomax,3702-3440-2472-5424,American Express\n",
      "116,Staffing Consultant,Isabel_Ellwood1475@fuliss.net,Isabel Ellwood,3738-0882-0066-6683,American Express\n",
      "148,CNC Operator,Abdul_Townend2202@infotech44.tech,Abdul Townend,4224-1226-3557-3448,American Express\n",
      "150,Fabricator,Caleb_Poulton1735@atink.com,Caleb Poulton,8203-6875-5225-0341,American Express\n",
      "151,Restaurant Manager,Ronald_Lewis6777@deavo.com,Ronald Lewis,7212-0155-5014-8471,American Express\n",
      "154,Bellman,Faith_Seymour3829@twace.org,Faith Seymour,4170-5186-6887-6558,American Express\n",
      "169,Assistant Buyer,Anthony_Hancock9083@qater.org,Anthony Hancock,0832-3357-6010-6550,American Express\n",
      "176,Healthcare Specialist,Isabella_Willson5478@nanoff.biz,Isabella Willson,5177-4868-4623-0384,American Express\n",
      "182,Pharmacist,Stephanie_Darcy3298@bauros.biz,Stephanie Darcy,0264-4020-5106-5576,American Express\n",
      "199,Investment  Advisor,Ryan_Kennedy5565@corti.com,Ryan Kennedy,3166-6287-6242-7207,American Express\n"
     ]
    }
   ],
   "source": [
    "import json\n",
    "\n",
    "#scarico il json\n",
    "#!wget https://www.dropbox.com/s/sz5klcdpckc39hd/user_data.json\n",
    "\n",
    "#trasformo il file json in un'oggetto python\n",
    "input_json = json.load(open('user_data.json'))\n",
    "\n",
    "#filtro il jason usando le list comprehensions\n",
    "americanEx_json = [x for x in input_json if x['CreditCardType'] == 'American Express']\n",
    "\n",
    "#converto il json filtrato in un dataframe pandas\n",
    "df = pd.DataFrame(americanEx_json)\n",
    "\n",
    "##converto il dataframe pandas in un file csv\n",
    "df.to_csv (r'data/json_data_americanEx.csv', index = False)\n",
    "\n",
    "!cat data/json_data_americanEx.csv #stampo il file\n",
    "\n"
   ]
  },
  {
   "cell_type": "markdown",
   "metadata": {},
   "source": [
    "3\\. **CSV files with Pandas**\n",
    "\n",
    "Load the file from this url:\n",
    "\n",
    "- https://www.dropbox.com/s/kgshemfgk22iy79/mushrooms_categorized.csv\n",
    "\n",
    "with Pandas. \n",
    "\n",
    "+ explore and print the DataFrame\n",
    "+ calculate, using `groupby()`, the average value of each feature, separately for each class\n",
    "+ save the file in a JSON format."
   ]
  },
  {
   "cell_type": "code",
   "execution_count": 30,
   "metadata": {},
   "outputs": [],
   "source": [
    "#url='https://www.dropbox.com/s/kgshemfgk22iy79/mushrooms_categorized.csv'\n",
    "#df = pd.read_csv(url)\n"
   ]
  },
  {
   "cell_type": "markdown",
   "metadata": {},
   "source": [
    "4\\. **Reading the credit card numbers**\n",
    "\n",
    "Get the binary file named *credit_card.dat* from this address:\n",
    "\n",
    "- https://www.dropbox.com/s/8m0syw2tkul3dap/credit_card.dat\n",
    "\n",
    "and convert the data into the real credit card number, knowing that:\n",
    "- each line corresponds to a credit card number, which consists of 16 characters (which are numbers in the 0-9 range) divided in 4 blocks, with a whitespace between each block\n",
    "- each character is written using a 6 bit binary representation (including the whitespace)\n",
    "- the final 4 bits of each line are a padding used to determine the end of the line, and can be ignored\n",
    "\n",
    "*Hint*: convert the binary numbers to the decimal representation first, and then use the `chr()` function to convert the latter to a char"
   ]
  },
  {
   "cell_type": "code",
   "execution_count": 83,
   "metadata": {},
   "outputs": [
    {
     "ename": "ValueError",
     "evalue": "invalid literal for int() with base 2: '290024'",
     "output_type": "error",
     "traceback": [
      "\u001b[0;31m---------------------------------------------------------------------------\u001b[0m",
      "\u001b[0;31mValueError\u001b[0m                                Traceback (most recent call last)",
      "\u001b[1;32m/home/mox/ScientificComputing_LocalLinuxWSL/ScientificComputingWithPython2022/06ex_OSEMN.ipynb Cella 9\u001b[0m in \u001b[0;36m<cell line: 5>\u001b[0;34m()\u001b[0m\n\u001b[1;32m      <a href='vscode-notebook-cell://wsl%2Bubuntu/home/mox/ScientificComputing_LocalLinuxWSL/ScientificComputingWithPython2022/06ex_OSEMN.ipynb#X11sdnNjb2RlLXJlbW90ZQ%3D%3D?line=8'>9</a>\u001b[0m \u001b[39mfor\u001b[39;00m i \u001b[39min\u001b[39;00m \u001b[39mrange\u001b[39m(\u001b[39m0\u001b[39m,\u001b[39mlen\u001b[39m(tmp),\u001b[39m6\u001b[39m):\n\u001b[1;32m     <a href='vscode-notebook-cell://wsl%2Bubuntu/home/mox/ScientificComputing_LocalLinuxWSL/ScientificComputingWithPython2022/06ex_OSEMN.ipynb#X11sdnNjb2RlLXJlbW90ZQ%3D%3D?line=9'>10</a>\u001b[0m         char_card\u001b[39m=\u001b[39mtmp[i:i\u001b[39m+\u001b[39m\u001b[39m6\u001b[39m]\n\u001b[0;32m---> <a href='vscode-notebook-cell://wsl%2Bubuntu/home/mox/ScientificComputing_LocalLinuxWSL/ScientificComputingWithPython2022/06ex_OSEMN.ipynb#X11sdnNjb2RlLXJlbW90ZQ%3D%3D?line=10'>11</a>\u001b[0m         number\u001b[39m=\u001b[39m\u001b[39mint\u001b[39;49m(char_card,\u001b[39m2\u001b[39;49m) \n\u001b[1;32m     <a href='vscode-notebook-cell://wsl%2Bubuntu/home/mox/ScientificComputing_LocalLinuxWSL/ScientificComputingWithPython2022/06ex_OSEMN.ipynb#X11sdnNjb2RlLXJlbW90ZQ%3D%3D?line=11'>12</a>\u001b[0m         card_num\u001b[39m=\u001b[39mcard_num\u001b[39m+\u001b[39m\u001b[39mstr\u001b[39m(\u001b[39mchr\u001b[39m(number))\n\u001b[1;32m     <a href='vscode-notebook-cell://wsl%2Bubuntu/home/mox/ScientificComputing_LocalLinuxWSL/ScientificComputingWithPython2022/06ex_OSEMN.ipynb#X11sdnNjb2RlLXJlbW90ZQ%3D%3D?line=12'>13</a>\u001b[0m         \u001b[39mprint\u001b[39m(card_num)\n",
      "\u001b[0;31mValueError\u001b[0m: invalid literal for int() with base 2: '290024'"
     ]
    }
   ],
   "source": [
    "#!wget 'https://www.dropbox.com/s/8m0syw2tkul3dap/credit_card.dat'\n",
    "\n",
    "\n",
    "datContent = pd.DataFrame([i.strip().split() for i in open(\"./credit_card.dat\").readlines()])\n",
    "for i in range(datContent.size):\n",
    "#print (int(str(datContent[0].values[0]), 2))\n",
    "    tmp = str(int(str(datContent[0].values[i]), 2))\n",
    "    card_num=\"\" \n",
    "    for i in range(0,len(tmp),6):\n",
    "            char_card=tmp[i:i+6]\n",
    "            number=int(char_card,2) \n",
    "            card_num=card_num+str(chr(number))\n",
    "            print(card_num)\n",
    "\n"
   ]
  },
  {
   "cell_type": "markdown",
   "metadata": {},
   "source": [
    "5\\. **Write data to a binary file**\n",
    "\n",
    "a) Start from the `data/data_000637.txt` file that we have used during the previous lectures, and convert it to a binary file according to the format defined below:"
   ]
  },
  {
   "cell_type": "code",
   "execution_count": null,
   "metadata": {},
   "outputs": [],
   "source": [
    "from IPython.display import Image\n",
    "Image(\"images/data_format.png\")"
   ]
  },
  {
   "cell_type": "markdown",
   "metadata": {},
   "source": [
    "*Hints*:\n",
    "- Read the first 10 lines using Pandas\n",
    "- Iterate over the DataFrame rows\n",
    "- For every row, ``pack'' the values (features) into a single 64-bit word, according to the format specified above. Use bit-wise shifts and operators to do so.\n",
    "- Write each 64-bit word to a binary file. You can use `struct` in this way:\n",
    "```\n",
    "binary_file.write( struct.pack('<q', word) )\n",
    "```\n",
    "where `word` is the 64-bit word.\n",
    "- Close the file after completing the loop.\n",
    "\n",
    "b) Check that the binary file is correctly written by reading it with the code used in the lecture `06_OSEMN.ipynb`, and verify that the content of the `txt` and binary files is consistent.\n",
    "\n",
    "c) What is the difference of the size on disk between equivalent `txt` and binary files?"
   ]
  },
  {
   "cell_type": "code",
   "execution_count": null,
   "metadata": {},
   "outputs": [],
   "source": []
  }
 ],
 "metadata": {
  "kernelspec": {
   "display_name": "Python 3.9.13 ('base')",
   "language": "python",
   "name": "python3"
  },
  "language_info": {
   "codemirror_mode": {
    "name": "ipython",
    "version": 3
   },
   "file_extension": ".py",
   "mimetype": "text/x-python",
   "name": "python",
   "nbconvert_exporter": "python",
   "pygments_lexer": "ipython3",
   "version": "3.9.13"
  },
  "vscode": {
   "interpreter": {
    "hash": "1b6d19d03eb3c5e317dfd26aaa27d0ba9df5faba5f52b444eb4dadad8451527b"
   }
  }
 },
 "nbformat": 4,
 "nbformat_minor": 2
}
