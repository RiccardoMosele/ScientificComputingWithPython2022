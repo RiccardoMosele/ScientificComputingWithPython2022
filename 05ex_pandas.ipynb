{
 "cells": [
  {
   "cell_type": "markdown",
   "metadata": {},
   "source": [
    "1\\. **Pandas DataFrame**\n",
    "\n",
    "This exercise consists in analyzing a dataset containg timing information from a series of Time-to-Digital-Converters (TDC) implemented in a pair of FPGAs. Each measurement (i.e. each row of the input file) consists of a flag that specifies the type of message ('HEAD', which in this case is always 1), two addresses of the TDC providing the signal ('FPGA' and 'TDC_CHANNEL'), and the timing information ('ORBIT_CNT', 'BX_COUNTER', and 'TDC_MEAS'). Each TDC count corresponds to 25/30 ns, whereas a unit of BX_COUNTER corresponds to 25 ns, and the ORBIT_CNT is increased every `x` BX_COUNTER. This allows to store the time in a similar way to hours, minutes and seconds."
   ]
  },
  {
   "cell_type": "code",
   "execution_count": 1,
   "metadata": {},
   "outputs": [],
   "source": [
    "# If haven't downloaded it yet, please get the data file with wget\n",
    "#!wget https://www.dropbox.com/s/xvjzaxzz3ysphme/data_000637.txt -P ./data/"
   ]
  },
  {
   "cell_type": "markdown",
   "metadata": {},
   "source": [
    "1\\. Create a Pandas DataFrame reading N rows of the `data/data_000637.txt` dataset. Choose N to be smaller than or equal to the maximum number of rows and larger that 10k (check the documentation)."
   ]
  },
  {
   "cell_type": "code",
   "execution_count": 76,
   "metadata": {},
   "outputs": [
    {
     "name": "stdout",
     "output_type": "stream",
     "text": [
      "Total number of rows: 1310720\n",
      "N: 1098560\n",
      "Total numbers of rows: 1098560\n"
     ]
    },
    {
     "data": {
      "text/html": [
       "<div>\n",
       "<style scoped>\n",
       "    .dataframe tbody tr th:only-of-type {\n",
       "        vertical-align: middle;\n",
       "    }\n",
       "\n",
       "    .dataframe tbody tr th {\n",
       "        vertical-align: top;\n",
       "    }\n",
       "\n",
       "    .dataframe thead th {\n",
       "        text-align: right;\n",
       "    }\n",
       "</style>\n",
       "<table border=\"1\" class=\"dataframe\">\n",
       "  <thead>\n",
       "    <tr style=\"text-align: right;\">\n",
       "      <th></th>\n",
       "      <th>HEAD</th>\n",
       "      <th>FPGA</th>\n",
       "      <th>TDC_CHANNEL</th>\n",
       "      <th>ORBIT_CNT</th>\n",
       "      <th>BX_COUNTER</th>\n",
       "      <th>TDC_MEAS</th>\n",
       "    </tr>\n",
       "  </thead>\n",
       "  <tbody>\n",
       "    <tr>\n",
       "      <th>0</th>\n",
       "      <td>1</td>\n",
       "      <td>0</td>\n",
       "      <td>123</td>\n",
       "      <td>3869200167</td>\n",
       "      <td>2374</td>\n",
       "      <td>26</td>\n",
       "    </tr>\n",
       "    <tr>\n",
       "      <th>1</th>\n",
       "      <td>1</td>\n",
       "      <td>0</td>\n",
       "      <td>124</td>\n",
       "      <td>3869200167</td>\n",
       "      <td>2374</td>\n",
       "      <td>27</td>\n",
       "    </tr>\n",
       "    <tr>\n",
       "      <th>2</th>\n",
       "      <td>1</td>\n",
       "      <td>0</td>\n",
       "      <td>63</td>\n",
       "      <td>3869200167</td>\n",
       "      <td>2553</td>\n",
       "      <td>28</td>\n",
       "    </tr>\n",
       "    <tr>\n",
       "      <th>3</th>\n",
       "      <td>1</td>\n",
       "      <td>0</td>\n",
       "      <td>64</td>\n",
       "      <td>3869200167</td>\n",
       "      <td>2558</td>\n",
       "      <td>19</td>\n",
       "    </tr>\n",
       "    <tr>\n",
       "      <th>4</th>\n",
       "      <td>1</td>\n",
       "      <td>0</td>\n",
       "      <td>64</td>\n",
       "      <td>3869200167</td>\n",
       "      <td>2760</td>\n",
       "      <td>25</td>\n",
       "    </tr>\n",
       "    <tr>\n",
       "      <th>...</th>\n",
       "      <td>...</td>\n",
       "      <td>...</td>\n",
       "      <td>...</td>\n",
       "      <td>...</td>\n",
       "      <td>...</td>\n",
       "      <td>...</td>\n",
       "    </tr>\n",
       "    <tr>\n",
       "      <th>1098555</th>\n",
       "      <td>1</td>\n",
       "      <td>1</td>\n",
       "      <td>1</td>\n",
       "      <td>3869209698</td>\n",
       "      <td>2983</td>\n",
       "      <td>25</td>\n",
       "    </tr>\n",
       "    <tr>\n",
       "      <th>1098556</th>\n",
       "      <td>1</td>\n",
       "      <td>1</td>\n",
       "      <td>2</td>\n",
       "      <td>3869209698</td>\n",
       "      <td>2986</td>\n",
       "      <td>17</td>\n",
       "    </tr>\n",
       "    <tr>\n",
       "      <th>1098557</th>\n",
       "      <td>1</td>\n",
       "      <td>0</td>\n",
       "      <td>44</td>\n",
       "      <td>3869209698</td>\n",
       "      <td>3110</td>\n",
       "      <td>10</td>\n",
       "    </tr>\n",
       "    <tr>\n",
       "      <th>1098558</th>\n",
       "      <td>1</td>\n",
       "      <td>0</td>\n",
       "      <td>64</td>\n",
       "      <td>3869209698</td>\n",
       "      <td>3115</td>\n",
       "      <td>23</td>\n",
       "    </tr>\n",
       "    <tr>\n",
       "      <th>1098559</th>\n",
       "      <td>1</td>\n",
       "      <td>0</td>\n",
       "      <td>63</td>\n",
       "      <td>3869209698</td>\n",
       "      <td>3118</td>\n",
       "      <td>23</td>\n",
       "    </tr>\n",
       "  </tbody>\n",
       "</table>\n",
       "<p>1098560 rows × 6 columns</p>\n",
       "</div>"
      ],
      "text/plain": [
       "         HEAD  FPGA  TDC_CHANNEL   ORBIT_CNT  BX_COUNTER  TDC_MEAS\n",
       "0           1     0          123  3869200167        2374        26\n",
       "1           1     0          124  3869200167        2374        27\n",
       "2           1     0           63  3869200167        2553        28\n",
       "3           1     0           64  3869200167        2558        19\n",
       "4           1     0           64  3869200167        2760        25\n",
       "...       ...   ...          ...         ...         ...       ...\n",
       "1098555     1     1            1  3869209698        2983        25\n",
       "1098556     1     1            2  3869209698        2986        17\n",
       "1098557     1     0           44  3869209698        3110        10\n",
       "1098558     1     0           64  3869209698        3115        23\n",
       "1098559     1     0           63  3869209698        3118        23\n",
       "\n",
       "[1098560 rows x 6 columns]"
      ]
     },
     "execution_count": 76,
     "metadata": {},
     "output_type": "execute_result"
    }
   ],
   "source": [
    "import pandas as pd\n",
    "import random as rnd\n",
    "\n",
    "file_name = \"./data/data_000637.txt\"\n",
    "\n",
    "#creo un numero random tra 10000 e il numero massimo di righe\n",
    "tmp = pd.read_csv(file_name)\n",
    "N=rnd.randint(10000,len(tmp))\n",
    "print(f\"Total number of rows: {len(tmp)}\")\n",
    "print(f\"N: {N}\")\n",
    "\n",
    "data = pd.read_csv(file_name, nrows=N) #leggo N righe del file\n",
    "data\n"
   ]
  },
  {
   "cell_type": "markdown",
   "metadata": {},
   "source": [
    "2\\. Estimate the number of BX in a ORBIT (the value `x`).\n",
    "\n",
    "*Hint*: check when the BX counter reaches the maximum value before being reset to 0."
   ]
  },
  {
   "cell_type": "code",
   "execution_count": 77,
   "metadata": {},
   "outputs": [
    {
     "name": "stdout",
     "output_type": "stream",
     "text": [
      "The max of BX_COUNTER is: 3563\n"
     ]
    }
   ],
   "source": [
    "#x= massimo della colonna BX_COUNTER\n",
    "x=data[\"BX_COUNTER\"].max()\n",
    "\n",
    "print(\"The max of BX_COUNTER is:\", x)"
   ]
  },
  {
   "cell_type": "markdown",
   "metadata": {},
   "source": [
    "3\\. Create a new column with the absolute time in ns (as a combination of the other three columns with timing information) since the beginning of the data acquisition, and convert the new column to a Time Series."
   ]
  },
  {
   "cell_type": "code",
   "execution_count": 78,
   "metadata": {},
   "outputs": [
    {
     "name": "stdout",
     "output_type": "stream",
     "text": [
      "Wait...\n",
      "\n",
      "First 10 rows:\n",
      "   HEAD  FPGA  TDC_CHANNEL   ORBIT_CNT  BX_COUNTER  TDC_MEAS      ABS_TIME\n",
      "0     1     0          123  3869200167        2374        26  3.446490e+14\n",
      "1     1     0          124  3869200167        2374        27  3.446490e+14\n",
      "2     1     0           63  3869200167        2553        28  3.446490e+14\n",
      "3     1     0           64  3869200167        2558        19  3.446490e+14\n",
      "4     1     0           64  3869200167        2760        25  3.446490e+14\n",
      "5     1     0           63  3869200167        2762         4  3.446490e+14\n",
      "6     1     0           61  3869200167        2772        14  3.446490e+14\n",
      "7     1     0          139  3869200167        2776         0  3.446490e+14\n",
      "8     1     0           62  3869200167        2774        21  3.446490e+14\n",
      "9     1     0           60  3869200167        2788         7  3.446490e+14\n",
      "\n",
      "First 10 rows of Time-Series:\n",
      "0   1970-01-04 23:44:09.004934896\n",
      "1   1970-01-04 23:44:09.004934897\n",
      "2   1970-01-04 23:44:09.004939373\n",
      "3   1970-01-04 23:44:09.004939490\n",
      "4   1970-01-04 23:44:09.004944545\n",
      "5   1970-01-04 23:44:09.004944578\n",
      "6   1970-01-04 23:44:09.004944836\n",
      "7   1970-01-04 23:44:09.004944925\n",
      "8   1970-01-04 23:44:09.004944892\n",
      "9   1970-01-04 23:44:09.004945230\n",
      "Name: ABS_TIME, dtype: datetime64[ns]\n"
     ]
    }
   ],
   "source": [
    "import numpy as np\n",
    "import datetime\n",
    "\n",
    "#calcolo i tempi per ogni riga\n",
    "abs_time=[]\n",
    "print(\"Wait...\")\n",
    "for i,row in data.iterrows():\n",
    "    tmp_time= (row[\"TDC_MEAS\"]*25/30+ row[\"BX_COUNTER\"]*25+ row[\"ORBIT_CNT\"]*x*25)\n",
    "    abs_time.append(tmp_time)\n",
    "\n",
    "#aggiungo una nuova colonna con i tempi per ogni riga\n",
    "data['ABS_TIME'] = abs_time\n",
    "\n",
    "#stampo le prime venti righe per controllare\n",
    "m = data.head(10)\n",
    "print(f\"\\nFirst 10 rows:\\n{m}\")\n",
    "\n",
    "#converto la nuova colonna in time-series:\n",
    "\n",
    "time_series=pd.to_datetime(data[\"ABS_TIME\"], unit=\"ns\")\n",
    "print(f\"\\nFirst 10 rows of Time-Series:\\n{time_series.head(10)}\")"
   ]
  },
  {
   "cell_type": "markdown",
   "metadata": {},
   "source": [
    "4\\. Find out the duration of the data taking in hours, minutes and seconds, by using the features of the Time Series. Perform this check reading the whole dataset."
   ]
  },
  {
   "cell_type": "code",
   "execution_count": 113,
   "metadata": {},
   "outputs": [
    {
     "name": "stdout",
     "output_type": "stream",
     "text": [
      "Wait...\n",
      "   HEAD  FPGA  TDC_CHANNEL   ORBIT_CNT  BX_COUNTER  TDC_MEAS  \\\n",
      "0     1     0          123  3869200167        2374        26   \n",
      "1     1     0          124  3869200167        2374        27   \n",
      "2     1     0           63  3869200167        2553        28   \n",
      "3     1     0           64  3869200167        2558        19   \n",
      "4     1     0           64  3869200167        2760        25   \n",
      "5     1     0           63  3869200167        2762         4   \n",
      "6     1     0           61  3869200167        2772        14   \n",
      "7     1     0          139  3869200167        2776         0   \n",
      "8     1     0           62  3869200167        2774        21   \n",
      "9     1     0           60  3869200167        2788         7   \n",
      "\n",
      "                   ABS_TIME  \n",
      "0 3 days 23:44:09.004934896  \n",
      "1 3 days 23:44:09.004934897  \n",
      "2 3 days 23:44:09.004939373  \n",
      "3 3 days 23:44:09.004939490  \n",
      "4 3 days 23:44:09.004944545  \n",
      "5 3 days 23:44:09.004944578  \n",
      "6 3 days 23:44:09.004944836  \n",
      "7 3 days 23:44:09.004944925  \n",
      "8 3 days 23:44:09.004944892  \n",
      "9 3 days 23:44:09.004945230  \n"
     ]
    }
   ],
   "source": [
    "#leggo l'intero file\n",
    "data = pd.read_csv(file_name)\n",
    "\n",
    "#calcolo i tempi per ogni riga\n",
    "abs_time=[]\n",
    "print(\"Wait...\")\n",
    "for i,row in data.iterrows():\n",
    "    tmp_time= (row[\"TDC_MEAS\"]*25/30+ row[\"BX_COUNTER\"]*25+ row[\"ORBIT_CNT\"]*x*25)\n",
    "    abs_time.append(tmp_time)\n",
    "\n",
    "#aggiungo una nuova colonna con i tempi per ogni riga\n",
    "data['ABS_TIME'] = pd.to_timedelta(abs_time)\n",
    "\n",
    "print(data.head(10))"
   ]
  },
  {
   "cell_type": "markdown",
   "metadata": {},
   "source": [
    "5\\. Use the `.groupby()` method to find out the noisy channels, i.e. the TDC channels with most counts (print to screen the top 3 and the corresponding counts)"
   ]
  },
  {
   "cell_type": "code",
   "execution_count": 114,
   "metadata": {},
   "outputs": [
    {
     "name": "stdout",
     "output_type": "stream",
     "text": [
      "             HEAD  FPGA  ORBIT_CNT  BX_COUNTER  TDC_MEAS  ABS_TIME\n",
      "TDC_CHANNEL                                                       \n",
      "129            37    37         37          37        37        37\n",
      "137            68    68         68          68        68        68\n",
      "138            70    70         70          70        70        70\n"
     ]
    }
   ],
   "source": [
    "count = data.groupby(['TDC_CHANNEL']).count()\n",
    "n=3  \n",
    "noisy_ch=count.sort_values(by=\"HEAD\",ascending=True).iloc[0:n] ##selecting how many channels to show\n",
    "print(noisy_ch)"
   ]
  },
  {
   "cell_type": "markdown",
   "metadata": {},
   "source": [
    "6\\. Count the number of non-empty orbits (i.e. the number of orbits with at least one hit)."
   ]
  },
  {
   "cell_type": "code",
   "execution_count": null,
   "metadata": {},
   "outputs": [],
   "source": []
  },
  {
   "cell_type": "markdown",
   "metadata": {},
   "source": [
    "7\\. Count the number of unique orbits with at least one measurement from TDC_CHANNEL=139."
   ]
  },
  {
   "cell_type": "code",
   "execution_count": null,
   "metadata": {},
   "outputs": [],
   "source": []
  },
  {
   "cell_type": "markdown",
   "metadata": {},
   "source": [
    "8\\. Create two Series (one for each FPGA) that have the TDC channel as index, and the number of counts for the corresponding TDC channel as values."
   ]
  },
  {
   "cell_type": "code",
   "execution_count": null,
   "metadata": {},
   "outputs": [],
   "source": []
  },
  {
   "cell_type": "markdown",
   "metadata": {},
   "source": [
    "9\\. **Optional:** Create two histograms (one for each FPGA) that show the number of counts for each TDC channel."
   ]
  },
  {
   "cell_type": "code",
   "execution_count": null,
   "metadata": {},
   "outputs": [],
   "source": []
  }
 ],
 "metadata": {
  "kernelspec": {
   "display_name": "Python 3.9.13 ('base')",
   "language": "python",
   "name": "python3"
  },
  "language_info": {
   "codemirror_mode": {
    "name": "ipython",
    "version": 3
   },
   "file_extension": ".py",
   "mimetype": "text/x-python",
   "name": "python",
   "nbconvert_exporter": "python",
   "pygments_lexer": "ipython3",
   "version": "3.9.13"
  },
  "vscode": {
   "interpreter": {
    "hash": "1b6d19d03eb3c5e317dfd26aaa27d0ba9df5faba5f52b444eb4dadad8451527b"
   }
  }
 },
 "nbformat": 4,
 "nbformat_minor": 2
}
