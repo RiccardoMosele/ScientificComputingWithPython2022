{
 "cells": [
  {
   "cell_type": "markdown",
   "metadata": {},
   "source": [
    "1\\. **PCA on 3D dataset**\n",
    "\n",
    "* Generate a dataset simulating 3 features, each with N entries (N being ${\\cal O}(1000)$). Each feature is made by random numbers generated according the normal distribution $N(\\mu,\\sigma)$ with mean $\\mu_i$ and standard deviation $\\sigma_i$, with $i=1, 2, 3$. Generate the 3 variables $x_{i}$ such that:\n",
    "    * $x_1$ is distributed as $N(0,1)$\n",
    "    * $x_2$ is distributed as $x_1+N(0,3)$\n",
    "    * $x_3$ is given by $2x_1+x_2$\n",
    "* Find the eigenvectors and eigenvalues using the eigendecomposition of the covariance matrix\n",
    "* Find the eigenvectors and eigenvalues using the SVD. Check that the two procedures yield to same result\n",
    "* What percent of the total dataset's variability is explained by the principal components? Given how the dataset was constructed, do these make sense? Reduce the dimensionality of the system so that at least 99% of the total variability is retained\n",
    "* Redefine the data according to the new basis from the PCA\n",
    "* Plot the data, in both the original and the new basis. The figure should have 2 rows (the original and the new basis) and 3 columns (the $[x_0, x_1]$, $[x_0, x_2]$ and $[x_1, x_2]$ projections) of scatter plots."
   ]
  },
  {
   "cell_type": "code",
   "execution_count": 16,
   "metadata": {},
   "outputs": [
    {
     "name": "stdout",
     "output_type": "stream",
     "text": [
      "Eigenvalues Covariance:\n",
      "[2.67120342e+01 2.02243062e-15 2.03084116e+00]\n",
      "Eigenvectors Covariance:\n",
      "[[-0.1238784  -0.81649658  0.56390378]\n",
      " [-0.56675986 -0.40824829 -0.71562322]\n",
      " [-0.81451667  0.40824829  0.41218434]]\n",
      "\n",
      "Eigenvalues SVD:\n",
      "[2.67123577e+01 2.03084408e+00 4.38203260e-32]\n",
      "Eigenvectors SVD:\n",
      "[[-0.1238777   0.56390394 -0.81649658]\n",
      " [-0.56676075 -0.71562252 -0.40824829]\n",
      " [-0.81451615  0.41218536  0.40824829]]\n"
     ]
    }
   ],
   "source": [
    "import numpy as np\n",
    "\n",
    "#-->1<-- creo i 3 dataset\n",
    "x1 = np.random.normal(loc=0, scale=1, size=1000)\n",
    "x2 = x1 + np.random.normal(loc=0, scale=3, size=1000)\n",
    "x3 = 2*x1 + x2\n",
    "\n",
    "#-->2<-- \n",
    "matr = np.asmatrix(np.array([x1,x2,x3]))\n",
    "matr_cov = np.cov(matr)\n",
    "eigen_vals_cov, eigen_vecs_cov = np.linalg.eig(matr_cov)\n",
    "\n",
    "#-->3<--\n",
    "U, S, V = np.linalg.svd(matr) \n",
    "\n",
    "# Rescale the SVD spectrum to get the eigenvalues\n",
    "eigen_vals_svd = S**2/(1000-1)\n",
    "# The matrix U already contains the eigenvectors\n",
    "eigen_vecs_svd = U\n",
    "\n",
    "print(f\"Eigenvalues Covariance:\\n{eigen_vals_cov}\")\n",
    "print(f\"Eigenvectors Covariance:\\n{eigen_vecs_cov}\")\n",
    "\n",
    "print(f\"\\nEigenvalues SVD:\\n{eigen_vals_svd}\")\n",
    "print(f\"Eigenvectors SVD:\\n{eigen_vecs_svd}\")"
   ]
  },
  {
   "cell_type": "markdown",
   "metadata": {},
   "source": [
    "2\\. **PCA on a nD dataset**\n",
    "\n",
    "* Start from the dataset you have genereted in the previous exercise and add uncorrelated random noise. Such noise should be represented by other 10 uncorrelated variables normally distributed, with a standard deviation much smaller (e.g. a factor 20) than those used to generate the $x_1$ and $x_2$. Repeat the PCA procedure and compare the results with what you have obtained before."
   ]
  },
  {
   "cell_type": "code",
   "execution_count": null,
   "metadata": {},
   "outputs": [],
   "source": []
  },
  {
   "cell_type": "markdown",
   "metadata": {},
   "source": [
    "3\\. **Optional**: **PCA on the MAGIC dataset**\n",
    "\n",
    "Perform a PCA on the magic04.data dataset."
   ]
  },
  {
   "cell_type": "code",
   "execution_count": null,
   "metadata": {},
   "outputs": [],
   "source": [
    "# get the dataset and its description on the proper data directory\n",
    "#!wget https://archive.ics.uci.edu/ml/machine-learning-databases/magic/magic04.data -P data/\n",
    "#!wget https://archive.ics.uci.edu/ml/machine-learning-databases/magic/magic04.names -P data/ "
   ]
  },
  {
   "cell_type": "code",
   "execution_count": null,
   "metadata": {},
   "outputs": [],
   "source": []
  }
 ],
 "metadata": {
  "kernelspec": {
   "display_name": "Python 3.9.13 ('base')",
   "language": "python",
   "name": "python3"
  },
  "language_info": {
   "codemirror_mode": {
    "name": "ipython",
    "version": 3
   },
   "file_extension": ".py",
   "mimetype": "text/x-python",
   "name": "python",
   "nbconvert_exporter": "python",
   "pygments_lexer": "ipython3",
   "version": "3.9.13"
  },
  "vscode": {
   "interpreter": {
    "hash": "1b6d19d03eb3c5e317dfd26aaa27d0ba9df5faba5f52b444eb4dadad8451527b"
   }
  }
 },
 "nbformat": 4,
 "nbformat_minor": 2
}
