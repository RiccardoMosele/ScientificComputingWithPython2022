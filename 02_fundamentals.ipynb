{
 "cells": [
  {
   "cell_type": "markdown",
   "metadata": {},
   "source": [
    "# Functions and classes\n",
    "\n",
    "\n",
    "## Modules, packages, libraries\n",
    "\n",
    "Definitions:\n",
    "\n",
    "  * Modules:\n",
    "  A module is a file which contains python functions, global variables etc. It is nothing but a `.py` file which has python executable code.\n",
    "\n",
    "  * Packages:\n",
    "  A package is a collection of Python modules: while a module is a single Python file, a package is a directory of Python modules containing an additional `__init__.py` file, to distinguish a package from a directory that just happens to contain a bunch of Python scripts. Packages can be nested to any depth, provided that the corresponding directories contain their own `__init__.py` file.\n",
    "  \n",
    "  * Libraries:\n",
    "  A library is a collection of various packages. There is no difference between a package and Python library conceptually.\n",
    "  \n",
    "Modules/packages/libraries can be easily \"imported\" and made functional in your python code. A set of libriaries comes with every python installation. Others can be installed locally and then imported. Your own code sitting somewhere else in your local computer can be imported too.\n",
    "\n",
    "Further details on packages and how to create them can be found on the online Python documentation: for instance for the [math library](https://docs.python.org/3/library/math.html)."
   ]
  },
  {
   "cell_type": "code",
   "execution_count": 1,
   "metadata": {},
   "outputs": [
    {
     "name": "stdout",
     "output_type": "stream",
     "text": [
      "3.141592653589793\n",
      "3.141592653589793\n",
      "3.141592653589793\n",
      "2.6457513110645907\n"
     ]
    }
   ],
   "source": [
    "# Import all the content of the math library\n",
    "import math\n",
    "print(math.pi)\n",
    "\n",
    "# You can import a library and label it for convenience\n",
    "import math as m\n",
    "print(m.pi)\n",
    "\n",
    "# Alternatively, you can import only a given object or function from the library instead of the full library\n",
    "from math import pi, sqrt  # you can add several libraries at once, just list them separated by a ', '\n",
    "print(pi)\n",
    "\n",
    "# Importing the full library (try to avoid this if you only need specific functions)\n",
    "from math import *\n",
    "print(sqrt(7))"
   ]
  },
  {
   "cell_type": "markdown",
   "metadata": {},
   "source": [
    "To know which modules are installed and ready to be imported:"
   ]
  },
  {
   "cell_type": "code",
   "execution_count": null,
   "metadata": {},
   "outputs": [],
   "source": [
    "import sys\n",
    "for k, v in sys.modules.items():\n",
    "    print(k)\n",
    "\n",
    "# Alternative for older python versions\n",
    "# print(help('modules'))"
   ]
  },
  {
   "cell_type": "markdown",
   "metadata": {},
   "source": [
    "`pip` is a special package. It is used from the command line to install properly (e.g. matching the version of the local packages) new packages:\n",
    "\n",
    "`pip install matplotlib`\n",
    "\n",
    "`python3 -m pip install matplotlib`\n",
    "\n",
    "It can also be used from within python to check i.e. the set installed packages and their versions.\n",
    "\n",
    "N.B.: only the installed packages on top of the default ones will be listed."
   ]
  },
  {
   "cell_type": "code",
   "execution_count": 2,
   "metadata": {},
   "outputs": [
    {
     "name": "stdout",
     "output_type": "stream",
     "text": [
      "found distribution sniffio version 1.2.0\n",
      "found distribution argon2-cffi version 21.3.0\n",
      "found distribution jupyter version 1.0.0\n",
      "found distribution soupsieve version 2.3.1\n",
      "found distribution conda version 22.9.0\n",
      "found distribution greenlet version 1.1.1\n",
      "found distribution Bottleneck version 1.3.5\n",
      "found distribution mistune version 0.8.4\n",
      "found distribution tqdm version 4.64.1\n",
      "found distribution nest-asyncio version 1.5.5\n",
      "found distribution lxml version 4.9.1\n",
      "found distribution pycparser version 2.21\n",
      "found distribution kiwisolver version 1.4.2\n",
      "found distribution sip version 6.6.2\n",
      "found distribution nbclassic version 0.3.5\n",
      "found distribution jedi version 0.18.1\n",
      "found distribution jupyter-console version 6.4.3\n",
      "found distribution fonttools version 4.25.0\n",
      "found distribution pickleshare version 0.7.5\n",
      "found distribution pexpect version 4.8.0\n",
      "found distribution Babel version 2.9.1\n",
      "found distribution notebook version 6.4.12\n",
      "found distribution six version 1.16.0\n",
      "found distribution widgetsnbextension version 3.5.2\n",
      "found distribution cffi version 1.15.1\n",
      "found distribution nbconvert version 6.4.4\n",
      "found distribution terminado version 0.13.1\n",
      "found distribution jupyter-contrib-nbextensions version 0.5.1\n",
      "found distribution SQLAlchemy version 1.4.39\n",
      "found distribution PyYAML version 6.0\n",
      "found distribution json5 version 0.9.6\n",
      "found distribution pyzmq version 23.2.0\n",
      "found distribution MarkupSafe version 2.1.1\n",
      "found distribution stack-data version 0.2.0\n",
      "found distribution ipykernel version 6.15.2\n",
      "found distribution qtconsole version 5.3.2\n",
      "found distribution ipython-genutils version 0.2.0\n",
      "found distribution argon2-cffi-bindings version 21.2.0\n",
      "found distribution joblib version 1.1.0\n",
      "found distribution pandas version 1.4.4\n",
      "found distribution Pygments version 2.11.2\n",
      "found distribution conda-package-handling version 1.9.0\n",
      "found distribution pyOpenSSL version 22.0.0\n",
      "found distribution toolz version 0.11.2\n",
      "found distribution wheel version 0.37.1\n",
      "found distribution packaging version 21.3\n",
      "found distribution jupyter-server version 1.18.1\n",
      "found distribution ply version 3.11\n",
      "found distribution beautifulsoup4 version 4.11.1\n",
      "found distribution pip version 22.2.2\n",
      "found distribution traitlets version 5.1.1\n",
      "found distribution websocket-client version 0.58.0\n",
      "found distribution numexpr version 2.8.3\n",
      "found distribution jupyter-nbextensions-configurator version 0.4.1\n",
      "found distribution brotlipy version 0.7.0\n",
      "found distribution idna version 3.3\n",
      "found distribution requests version 2.28.1\n",
      "found distribution seaborn version 0.11.2\n",
      "found distribution setuptools version 63.4.1\n",
      "found distribution tornado version 6.2\n",
      "found distribution Send2Trash version 1.8.0\n",
      "found distribution jsonschema version 4.16.0\n",
      "found distribution certifi version 2022.9.24\n",
      "found distribution munkres version 1.1.4\n",
      "found distribution charset-normalizer version 2.0.4\n",
      "found distribution debugpy version 1.5.1\n",
      "found distribution python-dateutil version 2.8.2\n",
      "found distribution ipywidgets version 7.6.5\n",
      "found distribution webencodings version 0.5.1\n",
      "found distribution prometheus-client version 0.14.1\n",
      "found distribution PySocks version 1.7.1\n",
      "found distribution jupyter-contrib-core version 0.4.0\n",
      "found distribution typing_extensions version 4.3.0\n",
      "found distribution Pillow version 9.2.0\n",
      "found distribution importlib-metadata version 4.11.3\n",
      "found distribution pytz version 2022.1\n",
      "found distribution jupyterlab version 3.4.4\n",
      "found distribution threadpoolctl version 2.2.0\n",
      "found distribution mkl-random version 1.2.2\n",
      "found distribution pure-eval version 0.2.2\n",
      "found distribution PyQt5-sip version 12.11.0\n",
      "found distribution matplotlib version 3.5.2\n",
      "found distribution fastjsonschema version 2.16.2\n",
      "found distribution pycosat version 0.6.3\n",
      "found distribution bleach version 4.1.0\n",
      "found distribution jupyter_core version 4.11.1\n",
      "found distribution attrs version 21.4.0\n",
      "found distribution pyparsing version 3.0.9\n",
      "found distribution parso version 0.8.3\n",
      "found distribution testpath version 0.6.0\n",
      "found distribution jupyter-highlight-selected-word version 0.2.0\n",
      "found distribution wcwidth version 0.2.5\n",
      "found distribution jupyterlab-widgets version 1.0.0\n",
      "found distribution cryptography version 37.0.1\n",
      "found distribution executing version 0.8.3\n",
      "found distribution psutil version 5.9.0\n",
      "found distribution prompt-toolkit version 3.0.20\n",
      "found distribution backcall version 0.2.0\n",
      "found distribution mkl-service version 2.4.0\n",
      "found distribution ipython version 8.4.0\n",
      "found distribution entrypoints version 0.4\n",
      "found distribution ruamel-yaml-conda version 0.15.100\n",
      "found distribution urllib3 version 1.26.11\n",
      "found distribution mkl-fft version 1.3.1\n",
      "found distribution jupyter_client version 7.3.5\n",
      "found distribution jupyterlab-pygments version 0.1.2\n",
      "found distribution Jinja2 version 3.0.3\n",
      "found distribution scipy version 1.9.1\n",
      "found distribution cycler version 0.11.0\n",
      "found distribution jupyterlab_server version 2.15.2\n",
      "found distribution nbclient version 0.5.13\n",
      "found distribution zipp version 3.8.0\n",
      "found distribution QtPy version 2.2.0\n",
      "found distribution decorator version 5.1.1\n",
      "found distribution ptyprocess version 0.7.0\n",
      "found distribution anyio version 3.5.0\n",
      "found distribution asttokens version 2.0.5\n",
      "found distribution toml version 0.10.2\n",
      "found distribution matplotlib-inline version 0.1.6\n",
      "found distribution jupyter-latex-envs version 1.4.6\n",
      "found distribution nbformat version 5.5.0\n",
      "found distribution numpy version 1.23.1\n",
      "found distribution pyrsistent version 0.18.0\n",
      "found distribution scikit-learn version 1.1.2\n",
      "found distribution defusedxml version 0.7.1\n",
      "found distribution pandocfilters version 1.5.0\n"
     ]
    }
   ],
   "source": [
    "import sys\n",
    "\n",
    "if sys.version_info >= (3, 8):\n",
    "    from importlib import metadata as importlib_metadata\n",
    "else:\n",
    "    import importlib_metadata\n",
    "\n",
    "dists = importlib_metadata.distributions()\n",
    "for dist in dists:\n",
    "    name = dist.metadata[\"Name\"]\n",
    "    version = dist.version\n",
    "    print(\"found distribution %s version %s\" % (name, version))\n",
    "\n",
    "#import pip\n",
    "#sorted([\"%s==%s\" % (i.key, i.version) for i in pip.get_installed_distributions()])"
   ]
  },
  {
   "cell_type": "markdown",
   "metadata": {},
   "source": [
    "## Functions\n",
    "\n",
    "Defining function in Python is very simple, because you do not have to specify the type of the arguments and of the returned objects, like in statically typed languages. This is both useful and dangerous. Use the `try`/`except` construction to make it safe."
   ]
  },
  {
   "cell_type": "code",
   "execution_count": null,
   "metadata": {},
   "outputs": [],
   "source": [
    "# default arguments can also be declared\n",
    "def my_function(a, b = 2):\n",
    "    r = a + 2 * b\n",
    "    return r\n",
    "\n",
    "my_function(3)"
   ]
  },
  {
   "cell_type": "markdown",
   "metadata": {},
   "source": [
    "Normally, variables created inside the function (*local* variables) do not exist anymore outside the scope of the function itself."
   ]
  },
  {
   "cell_type": "code",
   "execution_count": null,
   "metadata": {},
   "outputs": [],
   "source": [
    "# print(r) # r is not recognized outside the function"
   ]
  },
  {
   "cell_type": "markdown",
   "metadata": {},
   "source": [
    "Functions can edit *global* variables as well, i.e. variables that are declared outside the function scope.\n",
    "\n",
    "The statement ```global``` is used to access the value of the variable outside the function with the same name (not recommended!):"
   ]
  },
  {
   "cell_type": "code",
   "execution_count": null,
   "metadata": {},
   "outputs": [],
   "source": [
    "x = \"awesome\"\n",
    "\n",
    "def myfunc():\n",
    "    x = \"fantastic\"\n",
    "    print(\"Python is \" + x)\n",
    "\n",
    "myfunc()\n",
    "\n",
    "print(\"Python is \" + x)"
   ]
  },
  {
   "cell_type": "code",
   "execution_count": null,
   "metadata": {},
   "outputs": [],
   "source": [
    "x = \"awesome\"\n",
    "\n",
    "def myfunc():\n",
    "    global x # try to avoid global as much as possible\n",
    "    x = \"fantastic\"\n",
    "    print(\"Python is \" + x)\n",
    "\n",
    "myfunc()\n",
    "\n",
    "print(\"Python is \" + x)"
   ]
  },
  {
   "cell_type": "markdown",
   "metadata": {},
   "source": [
    "You can treat functions just like other Python objects, and add them to the data structures like lists, dict, etc.:"
   ]
  },
  {
   "cell_type": "code",
   "execution_count": null,
   "metadata": {},
   "outputs": [],
   "source": [
    "def square(x):\n",
    "    \"\"\"Square of x.\"\"\"\n",
    "    return x * x\n",
    "\n",
    "def cube(x):\n",
    "    \"\"\"Cube of x.\"\"\"\n",
    "    return x * x * x\n",
    "\n",
    "# create a dictionary of functions\n",
    "funcs = {\n",
    "    'square' : square,\n",
    "    'cube' : cube,\n",
    "}\n",
    "\n",
    "x = 3\n",
    "print(square(x))\n",
    "print(cube(x))\n",
    "\n",
    "for func in sorted(funcs):\n",
    "    print(func, funcs[func](x))"
   ]
  },
  {
   "cell_type": "markdown",
   "metadata": {},
   "source": [
    "### Function arguments"
   ]
  },
  {
   "cell_type": "markdown",
   "metadata": {},
   "source": [
    "In other languages, you can choose whether you want want to pass variables to a function by *value* or by *reference*.\n",
    "\n",
    "Python does not pass arguments neither by *value* nor by *reference*, but by *assignment*. When a function is called, each of the parameters of the function is assigned to the object they were passed in.\n",
    "\n",
    "The difference in the behaviour of mutable and immutable objects emerges when these objects are passed as an argument to a function.\n",
    "\n",
    "When an **immutable object** is passed to a function as an argument, and the object is modified inside the function, Python creates a copy of the original object, which is valid only within the scope of the function."
   ]
  },
  {
   "cell_type": "code",
   "execution_count": null,
   "metadata": {},
   "outputs": [],
   "source": [
    "def modify(x):\n",
    "    print(\"Inside the fuction:         \", x, id(x))\n",
    "    x += 2\n",
    "    print(\"After assignment in fuction:\", x, id(x))\n",
    "    return x\n",
    "\n",
    "x = 1\n",
    "print(\"Before calling the function:\", x, id(x))\n",
    "y = modify(x) # call the function\n",
    "print(\"Returned by the function:   \", y, id(y))\n",
    "print(\"After calling the function: \", x, id(x))"
   ]
  },
  {
   "cell_type": "markdown",
   "metadata": {},
   "source": [
    "Now let's consider a **mutable object**, e.g. a list `x = [1, 2, 3]`. If within the function the content of `x` is directly changed (e.g. `x[0] = 999`), then `x` changes outside the function as well. "
   ]
  },
  {
   "cell_type": "code",
   "execution_count": null,
   "metadata": {},
   "outputs": [],
   "source": [
    "def modify(x):\n",
    "    print(\"Inside the fuction:         \", x, id(x))\n",
    "    x[0] = 999\n",
    "    print(\"After assignment in fuction:\", x, id(x))\n",
    "    return x\n",
    "\n",
    "x = [1, 2, 3]\n",
    "print(\"Before calling the function:\", x, id(x))\n",
    "y = modify(x) # call the function\n",
    "print(\"Returned by the function:   \", y, id(y))\n",
    "print(\"After calling the function: \", x, id(x))"
   ]
  },
  {
   "cell_type": "markdown",
   "metadata": {},
   "source": [
    "However, if `x` is reassigned within the function to a new object (e.g. another list), then the copy of the name `x` now points to the new object, but `x` outside the function is unchanged."
   ]
  },
  {
   "cell_type": "code",
   "execution_count": null,
   "metadata": {},
   "outputs": [],
   "source": [
    "def no_modify(x):\n",
    "    print(\"Inside the fuction:         \", x, id(x))\n",
    "    x = [4, 5, 6]\n",
    "    print(\"After assignment in fuction:\", x, id(x))\n",
    "    return x\n",
    "\n",
    "x = [1, 2, 3]\n",
    "print(\"Before calling the function:\", x, id(x))\n",
    "y = no_modify(x) # call the function\n",
    "print(\"Returned by the function:   \", y, id(y))\n",
    "print(\"After calling the function: \", x, id(x))"
   ]
  },
  {
   "cell_type": "markdown",
   "metadata": {},
   "source": [
    "The difference is that in the first case only one element of the object has been reassigned, while in the second the object itself is modified."
   ]
  },
  {
   "cell_type": "markdown",
   "metadata": {},
   "source": [
    "#### Initialization of function default arguments"
   ]
  },
  {
   "cell_type": "markdown",
   "metadata": {},
   "source": [
    "A Python behaviour that may not be intuitive, and you should pay attention to:"
   ]
  },
  {
   "cell_type": "code",
   "execution_count": null,
   "metadata": {},
   "outputs": [],
   "source": [
    "def f(x = []):\n",
    "    x.append(1)\n",
    "    return x\n",
    "\n",
    "print(f())\n",
    "print(f())\n",
    "print(f(x = [9, 9, 9]))\n",
    "print(f())\n",
    "print(f())"
   ]
  },
  {
   "cell_type": "markdown",
   "metadata": {},
   "source": [
    "What actually happens is that a new list is created once when the function is defined, and the same list is used in each successive call.\n",
    "\n",
    "Python’s default arguments are evaluated once when the function is defined, not each time the function is called (like it is in say, Ruby). This means that if you use a mutable default argument and mutate it, you will have mutated that object for all future calls to the function as well. Check this [post](https://docs.python-guide.org/writing/gotchas/).\n",
    "\n",
    "The correct approach is to write the function in such a way that it creates a new object each time the function is called, by using a default argument that explicitly states that no argument was provided (`None` is often a good choice)."
   ]
  },
  {
   "cell_type": "code",
   "execution_count": null,
   "metadata": {},
   "outputs": [],
   "source": [
    "def f(x = None):\n",
    "    if x is None:\n",
    "        x = []\n",
    "    x.append(1)\n",
    "    return x\n",
    "\n",
    "print(f())\n",
    "print(f())\n",
    "print(f(x = [9, 9, 9]))\n",
    "print(f())\n",
    "print(f())"
   ]
  },
  {
   "cell_type": "markdown",
   "metadata": {},
   "source": [
    "### Higher order functions\n",
    "\n",
    "A function that uses another function as an input argument or returns a function is known as a higher-order function (HOF). The most familiar examples are `map` and `filter`."
   ]
  },
  {
   "cell_type": "markdown",
   "metadata": {},
   "source": [
    "#### map\n",
    "\n",
    "The map function applies a function to each member of a collection"
   ]
  },
  {
   "cell_type": "code",
   "execution_count": null,
   "metadata": {},
   "outputs": [],
   "source": [
    "x = list(map(square, range(5))) \n",
    "print(x)\n",
    "\n",
    "# Note the difference w.r.t python 2. In python 3 map retuns an iterator so you can loop on it like:\n",
    "for i in map(square, range(5)):\n",
    "    print(i)"
   ]
  },
  {
   "cell_type": "markdown",
   "metadata": {},
   "source": [
    "#### filter\n",
    "\n",
    "The filter function applies a predicate to each member of a collection, retaining only those where the predicate is `True`"
   ]
  },
  {
   "cell_type": "code",
   "execution_count": null,
   "metadata": {},
   "outputs": [],
   "source": [
    "def is_even(x):\n",
    "    return x % 2 == 0\n",
    "\n",
    "print(list(filter(is_even, range(5))))"
   ]
  },
  {
   "cell_type": "markdown",
   "metadata": {},
   "source": [
    "HOF can be nested:"
   ]
  },
  {
   "cell_type": "code",
   "execution_count": null,
   "metadata": {},
   "outputs": [],
   "source": [
    "list(map(square, filter(is_even, range(5))))\n"
   ]
  },
  {
   "cell_type": "markdown",
   "metadata": {},
   "source": [
    "#### reduce\n",
    "\n",
    "The reduce function reduces a collection using a binary operator to combine items two at a time. More often than not, reduce can be substituted with a more efficient `for` loop. It is worth mentioning it for its key role in big-data applications together with map (the map-reduce paradigm). \n",
    "N.B.: it no longer exist as built-in function in Python3, it is now part of the `functools` library."
   ]
  },
  {
   "cell_type": "code",
   "execution_count": null,
   "metadata": {},
   "outputs": [],
   "source": [
    "from functools import reduce\n",
    "\n",
    "def my_add(x, y):\n",
    "    print(\"Adding\", x, \"and\", y)\n",
    "    return x + y\n",
    "\n",
    "# another implementation of the sum function\n",
    "reduce(my_add, [1, 2, 3, 4, 5])"
   ]
  },
  {
   "cell_type": "markdown",
   "metadata": {},
   "source": [
    "#### zip\n",
    "\n",
    "zip is useful when you need to iterate over matched elements of multiple lists:"
   ]
  },
  {
   "cell_type": "code",
   "execution_count": 3,
   "metadata": {},
   "outputs": [
    {
     "name": "stdout",
     "output_type": "stream",
     "text": [
      "1 10 a\n",
      "2 20 b\n",
      "3 30 c\n",
      "4 40 d\n"
     ]
    }
   ],
   "source": [
    "xs = [1, 2, 3, 4]\n",
    "ys = [10, 20, 30, 40]\n",
    "zs = ['a', 'b', 'c', 'd', 'e']\n",
    "\n",
    "# zip stops at the end of the shortest list\n",
    "for x, y, z in zip(xs, ys, zs):\n",
    "    print(x, y, z)"
   ]
  },
  {
   "cell_type": "markdown",
   "metadata": {},
   "source": [
    "#### Custom HOF"
   ]
  },
  {
   "cell_type": "markdown",
   "metadata": {},
   "source": [
    "Python allows you to define custom HOF, or in general functions that accept as arguments other functions"
   ]
  },
  {
   "cell_type": "code",
   "execution_count": 4,
   "metadata": {},
   "outputs": [
    {
     "ename": "NameError",
     "evalue": "name 'square' is not defined",
     "output_type": "error",
     "traceback": [
      "\u001b[0;31m---------------------------------------------------------------------------\u001b[0m",
      "\u001b[0;31mNameError\u001b[0m                                 Traceback (most recent call last)",
      "Input \u001b[0;32mIn [4]\u001b[0m, in \u001b[0;36m<cell line: 6>\u001b[0;34m()\u001b[0m\n\u001b[1;32m      3\u001b[0m     \u001b[38;5;28;01mreturn\u001b[39;00m \u001b[38;5;28msum\u001b[39m(\u001b[38;5;28mmap\u001b[39m(transform, xs))\n\u001b[1;32m      5\u001b[0m xs \u001b[38;5;241m=\u001b[39m \u001b[38;5;28mrange\u001b[39m(\u001b[38;5;241m5\u001b[39m)\n\u001b[0;32m----> 6\u001b[0m \u001b[38;5;28mprint\u001b[39m(custom_sum(xs, \u001b[43msquare\u001b[49m))\n\u001b[1;32m      7\u001b[0m \u001b[38;5;28mprint\u001b[39m(custom_sum(xs, cube))\n",
      "\u001b[0;31mNameError\u001b[0m: name 'square' is not defined"
     ]
    }
   ],
   "source": [
    "def custom_sum(xs, transform):\n",
    "    \"\"\"Returns the sum of xs after a user specified transform.\"\"\"\n",
    "    return sum(map(transform, xs))\n",
    "\n",
    "xs = range(5)\n",
    "print(custom_sum(xs, square))\n",
    "print(custom_sum(xs, cube))"
   ]
  },
  {
   "cell_type": "markdown",
   "metadata": {},
   "source": [
    "### Anonimous (lambda) functions\n",
    "\n",
    "When using functional style, there is often the need to create specific functions that perform a limited task as input to a HOF such as map or filter. In such cases, these functions are often written as anonymous or lambda functions. \n",
    "The syntax is as follows:\n",
    "\n",
    "`lambda <arguments> : <expression>`\n",
    "\n",
    "Hint: do not overcomplicate lambda functions. If you find it hard to understand what a lambda function is doing, it should probably be rewritten as a regular function."
   ]
  },
  {
   "cell_type": "code",
   "execution_count": null,
   "metadata": {},
   "outputs": [],
   "source": [
    "# Explicit definition\n",
    "addit = lambda x, y: x + y\n",
    "addit(3, 4)"
   ]
  },
  {
   "cell_type": "code",
   "execution_count": 5,
   "metadata": {},
   "outputs": [
    {
     "name": "stdout",
     "output_type": "stream",
     "text": [
      "0\n",
      "1\n",
      "4\n",
      "9\n",
      "16\n"
     ]
    }
   ],
   "source": [
    "# The function is declared and directly passed to the HOF\n",
    "for i in map(lambda x: x * x, range(5)): print(i)"
   ]
  },
  {
   "cell_type": "code",
   "execution_count": 9,
   "metadata": {},
   "outputs": [],
   "source": [
    "# mid-lecture test: could you tell what this function does?\n",
    "from functools import reduce\n",
    "s1 = reduce(lambda x, y: x + y, map(lambda x: x**2, range(1, 10)))\n",
    "#print(s1)"
   ]
  },
  {
   "cell_type": "markdown",
   "metadata": {},
   "source": [
    "### Recursive functions\n",
    "\n",
    "A recursive function is a function that calls itself. For instance:"
   ]
  },
  {
   "cell_type": "code",
   "execution_count": null,
   "metadata": {},
   "outputs": [],
   "source": [
    "def factorial(x):\n",
    "    if x == 1:\n",
    "        return 1\n",
    "    else:\n",
    "        # recursive call to the function\n",
    "        return x * factorial(x - 1)\n",
    "\n",
    "factorial(5)"
   ]
  },
  {
   "cell_type": "markdown",
   "metadata": {},
   "source": [
    "### Decorators\n",
    "\n",
    "Decorators are a type of HOF that take a function and return a wrapped function that provides additional useful properties.\n",
    "\n",
    "Examples:\n",
    "\n",
    "  - logging\n",
    "  - Just-In-Time (JIT) compilation\n",
    "  - GPU acceleration ([numba](https://numba.pydata.org/))\n",
    "  - ...\n",
    "  \n",
    "Without using decorators:"
   ]
  },
  {
   "cell_type": "code",
   "execution_count": null,
   "metadata": {},
   "outputs": [],
   "source": [
    "def my_decorator(func): # takes a function as an argument\n",
    "    def wrapper():\n",
    "        print(\"Something is happening before the function is called.\")\n",
    "        func() # runs the function\n",
    "        print(\"Something is happening after the function is called.\")\n",
    "    return wrapper # returns a function\n",
    "\n",
    "def say_whee():\n",
    "    print(\"Whee!\")\n",
    "\n",
    "say_whee = my_decorator(say_whee) # redefines the original function"
   ]
  },
  {
   "cell_type": "code",
   "execution_count": null,
   "metadata": {},
   "outputs": [],
   "source": [
    "say_whee()"
   ]
  },
  {
   "cell_type": "markdown",
   "metadata": {},
   "source": [
    "Python allows you to use decorators in a simpler way with the `@` symbol:"
   ]
  },
  {
   "cell_type": "code",
   "execution_count": null,
   "metadata": {},
   "outputs": [],
   "source": [
    "def my_decorator(func):\n",
    "    def wrapper():\n",
    "        print(\"Something is happening before the function is called.\")\n",
    "        func()\n",
    "        print(\"Something is happening after the function is called.\")\n",
    "    return wrapper\n",
    "\n",
    "@my_decorator\n",
    "def say_whee():\n",
    "    print(\"Whee!\")"
   ]
  },
  {
   "cell_type": "code",
   "execution_count": null,
   "metadata": {},
   "outputs": [],
   "source": [
    "say_whee()"
   ]
  },
  {
   "cell_type": "markdown",
   "metadata": {},
   "source": [
    "### Useful libraries\n",
    "\n",
    "You may want to have a look at the content of the following modules for further HO functions:\n",
    "\n",
    "  - [operator](https://docs.python.org/3/library/operator.html)\n",
    "  - [functools](https://docs.python.org/3/library/functools.html)\n",
    "  - [itertools](https://docs.python.org/3/library/itertools.html)\n",
    "  - [toolz](https://pypi.org/project/toolz/)\n",
    "  - [funcy](https://pypi.org/project/funcy/)"
   ]
  },
  {
   "cell_type": "markdown",
   "metadata": {},
   "source": [
    "# Classes and Objects\n",
    "\n",
    "Object-oriented programming is a way to write programs so that properties and behaviours are tied to **objects**.\n",
    "\n",
    "Classes are defined similarly to standard object-oriented languages, with similar functionalities.\n",
    "\n",
    "The main Python documentation [page](https://docs.python.org/3.8/tutorial/classes.html) is worth reading.\n",
    "\n",
    "Users can define new objects (classes) to extend the functionalities of primitive data structures like `int`, `float`, `list` and so on, to include other information. These variables, which belong to the class, are called **attributes**.\n",
    "\n",
    "Classes are not only used to store data, but they also define functions called **methods**, which define the actions that an object created from the class can perform with its data.\n",
    "\n",
    "While a class defines a structure, but doesn't fill the content, an **instance** is an object that is built from a class and contains real data."
   ]
  },
  {
   "cell_type": "code",
   "execution_count": null,
   "metadata": {},
   "outputs": [],
   "source": [
    "# Class definition\n",
    "import math\n",
    "\n",
    "class VectorND:\n",
    "    '''This is a comment that is supposed to describe the purpose of the class'''\n",
    "    \n",
    "    # Definition of the class attributes, which are common for all instances of the same class\n",
    "    x = []\n",
    "    \n",
    "    # Definition of the Constructor, a special method that is called every time a new object is created\n",
    "    # The first argument of the constructor (and also for all other methods in the class) is the instance itself\n",
    "    def __init__(self, components):\n",
    "        # since 'firstname' and 'surname' are attributed of the class, they have to be called as such\n",
    "        self.x = components # a list is expected as input\n",
    "    \n",
    "    # Definition of the destructor, but it is often omitted\n",
    "    def __del__(self):\n",
    "        print(\"Goodbye\")\n",
    "    \n",
    "    # Definition of the methods\n",
    "    \n",
    "    # This method allows to set the attribute 'age'\n",
    "    def getDimension(self): # the first argument is always 'self' for the methods of a class\n",
    "        return len(self.x)\n",
    "    \n",
    "    # This method allows to get individial elements of the 'x' attribute \n",
    "    def getX(self, n): # n is the component index\n",
    "        return self.x[n]\n",
    "    \n",
    "    # This method allows to set individial elements of the 'x' attribute \n",
    "    def setX(self, n, xi): # n is the component index, and xi is the value\n",
    "        if n < len(self.x):\n",
    "            self.x[n] = xi\n",
    "    \n",
    "    def getNorm(self):\n",
    "        s2 = 0\n",
    "        for i in range(len(self.x)):\n",
    "            s2 += self.x[i]**2\n",
    "        return math.sqrt(s2)\n",
    "\n",
    "# End of the class definition"
   ]
  },
  {
   "cell_type": "code",
   "execution_count": 10,
   "metadata": {},
   "outputs": [
    {
     "ename": "NameError",
     "evalue": "name 'VectorND' is not defined",
     "output_type": "error",
     "traceback": [
      "\u001b[0;31m---------------------------------------------------------------------------\u001b[0m",
      "\u001b[0;31mNameError\u001b[0m                                 Traceback (most recent call last)",
      "Input \u001b[0;32mIn [10]\u001b[0m, in \u001b[0;36m<cell line: 2>\u001b[0;34m()\u001b[0m\n\u001b[1;32m      1\u001b[0m \u001b[38;5;66;03m# Create an instance of class 'VectorND'\u001b[39;00m\n\u001b[0;32m----> 2\u001b[0m a \u001b[38;5;241m=\u001b[39m \u001b[43mVectorND\u001b[49m([\u001b[38;5;241m5\u001b[39m, \u001b[38;5;241m0\u001b[39m, \u001b[38;5;241m1\u001b[39m])\n\u001b[1;32m      4\u001b[0m \u001b[38;5;28mprint\u001b[39m(\u001b[38;5;124m\"\u001b[39m\u001b[38;5;124mDimension:\u001b[39m\u001b[38;5;124m\"\u001b[39m, a\u001b[38;5;241m.\u001b[39mgetDimension()) \u001b[38;5;66;03m# call method 'getDimension' of instance 'a'\u001b[39;00m\n\u001b[1;32m      6\u001b[0m a\u001b[38;5;241m.\u001b[39msetX(\u001b[38;5;241m2\u001b[39m, \u001b[38;5;241m0\u001b[39m) \u001b[38;5;66;03m# set the third component to zero\u001b[39;00m\n",
      "\u001b[0;31mNameError\u001b[0m: name 'VectorND' is not defined"
     ]
    }
   ],
   "source": [
    "# Create an instance of class 'VectorND'\n",
    "a = VectorND([5, 0, 1])\n",
    "\n",
    "print(\"Dimension:\", a.getDimension()) # call method 'getDimension' of instance 'a'\n",
    "\n",
    "a.setX(2, 0) # set the third component to zero\n",
    "\n",
    "a.x[2] = 1 # another way (not recommended!) to modify the attributes of 'a'\n",
    "\n",
    "print(\"Nornamlization:\", a.getNorm())"
   ]
  },
  {
   "cell_type": "markdown",
   "metadata": {},
   "source": [
    "### Class inheritance\n",
    "\n",
    "Python allows to extend the functionality of a class by using *subclasses*, which are classes that **inherit** properties from the super class. In other words, the *child class* will inherit the properties of the *parent class*."
   ]
  },
  {
   "cell_type": "code",
   "execution_count": null,
   "metadata": {},
   "outputs": [],
   "source": [
    "class Vector3D(VectorND): # class 'Vector3D' inherits from class 'VectorND'\n",
    "    \n",
    "    # The constructor here is optional, and can be inherited from the parent class if omitted\n",
    "    def __init__(self, components):\n",
    "        if len(components) == 3:\n",
    "            self.x = components # a list is expected as input\n",
    "        else:\n",
    "            print(\"Error: number of components is not 3\")\n",
    "    \n",
    "    # New methods that only belong to the child class\n",
    "    def cross(self, y):\n",
    "        return (self.x[1]*y.getX(2) - self.x[2]*y.getX(1), -self.x[0]*y.getX(2) + self.x[2]*y.getX(0), self.x[0]*y.getX(1) - self.x[1]*y.getX(0))"
   ]
  },
  {
   "cell_type": "code",
   "execution_count": null,
   "metadata": {},
   "outputs": [],
   "source": [
    "b = Vector3D([1, 2, 3])\n",
    "c = Vector3D([4, 5, 6])\n",
    "\n",
    "# Child class methods are available to the child intance\n",
    "d = b.cross(c)\n",
    "print(\"Vector product:\", d)\n",
    "\n",
    "# Child instances also have the parent class' methods\n",
    "print(\"Dimension:\", b.getDimension())\n",
    "print(\"Norm:\", b.getNorm())\n",
    "\n",
    "# But not the opposite\n",
    "# a.dot(c) # AttributeError: 'Vector3D' object has no attribute 'vect'"
   ]
  },
  {
   "cell_type": "code",
   "execution_count": null,
   "metadata": {},
   "outputs": [],
   "source": []
  }
 ],
 "metadata": {
  "kernelspec": {
   "display_name": "Python 3 (ipykernel)",
   "language": "python",
   "name": "python3"
  },
  "language_info": {
   "codemirror_mode": {
    "name": "ipython",
    "version": 3
   },
   "file_extension": ".py",
   "mimetype": "text/x-python",
   "name": "python",
   "nbconvert_exporter": "python",
   "pygments_lexer": "ipython3",
   "version": "3.9.13"
  }
 },
 "nbformat": 4,
 "nbformat_minor": 4
}
